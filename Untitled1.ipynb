{
 "cells": [
  {
   "cell_type": "code",
   "execution_count": null,
   "id": "81521844",
   "metadata": {},
   "outputs": [],
   "source": [
    "#SECTION 7"
   ]
  },
  {
   "cell_type": "code",
   "execution_count": 1,
   "id": "1d0666cc",
   "metadata": {},
   "outputs": [],
   "source": [
    "# import pandas as pd"
   ]
  },
  {
   "cell_type": "code",
   "execution_count": 2,
   "id": "030b3574",
   "metadata": {},
   "outputs": [],
   "source": [
    "import pandas as pd"
   ]
  },
  {
   "cell_type": "raw",
   "id": "01372ea3",
   "metadata": {},
   "source": [
    "#read salaries.csv as a dataframe called sal."
   ]
  },
  {
   "cell_type": "code",
   "execution_count": null,
   "id": "c5fbbe78",
   "metadata": {},
   "outputs": [],
   "source": [
    "df = pd.read_csv('Salaries.csv')"
   ]
  },
  {
   "cell_type": "code",
   "execution_count": null,
   "id": "c7f195a5",
   "metadata": {},
   "outputs": [],
   "source": [
    "#check the head of the dataframe"
   ]
  },
  {
   "cell_type": "code",
   "execution_count": null,
   "id": "8c2aeb2f",
   "metadata": {},
   "outputs": [],
   "source": [
    "sal.head(3)"
   ]
  },
  {
   "cell_type": "code",
   "execution_count": 5,
   "id": "ed22895a",
   "metadata": {},
   "outputs": [],
   "source": [
    "#use the .info()_ method to find out how many entries there are"
   ]
  },
  {
   "cell_type": "code",
   "execution_count": null,
   "id": "37af6feb",
   "metadata": {},
   "outputs": [],
   "source": [
    "sal.info()"
   ]
  },
  {
   "cell_type": "code",
   "execution_count": null,
   "id": "216dec55",
   "metadata": {},
   "outputs": [],
   "source": [
    "#what is the average BasePay?"
   ]
  },
  {
   "cell_type": "code",
   "execution_count": null,
   "id": "05136c93",
   "metadata": {},
   "outputs": [],
   "source": [
    "sal['BasePay'].mean()"
   ]
  },
  {
   "cell_type": "code",
   "execution_count": null,
   "id": "f7e3d9cf",
   "metadata": {},
   "outputs": [],
   "source": [
    "#what is the highest amount of overtimePay in the dataset?"
   ]
  },
  {
   "cell_type": "code",
   "execution_count": null,
   "id": "518db248",
   "metadata": {},
   "outputs": [],
   "source": [
    "sal['OvertimePay'].max()"
   ]
  },
  {
   "cell_type": "code",
   "execution_count": null,
   "id": "8516878a",
   "metadata": {},
   "outputs": [],
   "source": [
    "#In [10] what is the job title of JOSEPH DRISCOLL?"
   ]
  },
  {
   "cell_type": "code",
   "execution_count": null,
   "id": "dc5ec0f8",
   "metadata": {},
   "outputs": [],
   "source": [
    "sal[sal['EmployeeName'] == 'JOSEPH DRISCOLL']['JobTitle']"
   ]
  },
  {
   "cell_type": "code",
   "execution_count": 6,
   "id": "0bc04f5b",
   "metadata": {},
   "outputs": [],
   "source": [
    "#13 how much JOSEPH DRISCOLL makes including benefits"
   ]
  },
  {
   "cell_type": "code",
   "execution_count": null,
   "id": "315fdd87",
   "metadata": {},
   "outputs": [],
   "source": [
    "sal[sal['EmployeeName'] == 'JOSEPH DRISCOLL']['TotalPayBenefits']"
   ]
  },
  {
   "cell_type": "code",
   "execution_count": null,
   "id": "866a755e",
   "metadata": {},
   "outputs": [],
   "source": [
    "#16 what is the name of highest paid person (including benefits)"
   ]
  },
  {
   "cell_type": "code",
   "execution_count": null,
   "id": "f5e0ec68",
   "metadata": {},
   "outputs": [],
   "source": [
    "sal[sal['TotalPayBenefits']===sal['TotalPayBenefits'.max()]['EmployeeName']"
   ]
  },
  {
   "cell_type": "code",
   "execution_count": null,
   "id": "fd3026b1",
   "metadata": {},
   "outputs": [],
   "source": [
    "sal[sal['TotalPayBenefits']===sal['TotalPayBenefits'.idmax]['EmployeeName']"
   ]
  },
  {
   "cell_type": "code",
   "execution_count": null,
   "id": "e250ac5d",
   "metadata": {},
   "outputs": [],
   "source": [
    "#17 lowest paid person name"
   ]
  },
  {
   "cell_type": "code",
   "execution_count": null,
   "id": "73f8fa07",
   "metadata": {},
   "outputs": [],
   "source": [
    "sal[sal['TotalPayBenefits']===sal['TotalPayBenefits'.min]['EmployeeName']"
   ]
  },
  {
   "cell_type": "code",
   "execution_count": null,
   "id": "4ac94b79",
   "metadata": {},
   "outputs": [],
   "source": [
    "#18 name of lowest paid person "
   ]
  },
  {
   "cell_type": "code",
   "execution_count": null,
   "id": "063d6d25",
   "metadata": {},
   "outputs": [],
   "source": [
    "sal.iloc[sal['TotalPayBenefits'].argmin()]"
   ]
  },
  {
   "cell_type": "code",
   "execution_count": null,
   "id": "2638d642",
   "metadata": {},
   "outputs": [],
   "source": [
    "#average (mean) BasePay of all employees per year (2011-2014)"
   ]
  },
  {
   "cell_type": "code",
   "execution_count": null,
   "id": "1a3dfecd",
   "metadata": {},
   "outputs": [],
   "source": [
    "sal.groupby('Year').mean()"
   ]
  },
  {
   "cell_type": "code",
   "execution_count": null,
   "id": "af785074",
   "metadata": {},
   "outputs": [],
   "source": [
    "#How many unique job titles are there?"
   ]
  },
  {
   "cell_type": "code",
   "execution_count": null,
   "id": "cb2c2437",
   "metadata": {},
   "outputs": [],
   "source": [
    "sal['JobTitle'].unique()"
   ]
  },
  {
   "cell_type": "code",
   "execution_count": null,
   "id": "451ead6f",
   "metadata": {},
   "outputs": [],
   "source": [
    "sal['JobTitle'].value_counts().head(5)"
   ]
  },
  {
   "cell_type": "code",
   "execution_count": null,
   "id": "f51a5bbb",
   "metadata": {},
   "outputs": [],
   "source": [
    "#How many titles represented by only one person in 2023?"
   ]
  },
  {
   "cell_type": "code",
   "execution_count": null,
   "id": "07d56f4c",
   "metadata": {},
   "outputs": [],
   "source": [
    "sal"
   ]
  },
  {
   "cell_type": "code",
   "execution_count": null,
   "id": "b961e550",
   "metadata": {},
   "outputs": [],
   "source": []
  },
  {
   "cell_type": "code",
   "execution_count": null,
   "id": "7d44b175",
   "metadata": {},
   "outputs": [],
   "source": []
  },
  {
   "cell_type": "code",
   "execution_count": null,
   "id": "7963d895",
   "metadata": {},
   "outputs": [],
   "source": []
  },
  {
   "cell_type": "code",
   "execution_count": null,
   "id": "6ab112e7",
   "metadata": {},
   "outputs": [],
   "source": []
  },
  {
   "cell_type": "code",
   "execution_count": null,
   "id": "3253e7e9",
   "metadata": {},
   "outputs": [],
   "source": []
  },
  {
   "cell_type": "code",
   "execution_count": null,
   "id": "7e1fcd35",
   "metadata": {},
   "outputs": [],
   "source": []
  }
 ],
 "metadata": {
  "kernelspec": {
   "display_name": "Python 3 (ipykernel)",
   "language": "python",
   "name": "python3"
  },
  "language_info": {
   "codemirror_mode": {
    "name": "ipython",
    "version": 3
   },
   "file_extension": ".py",
   "mimetype": "text/x-python",
   "name": "python",
   "nbconvert_exporter": "python",
   "pygments_lexer": "ipython3",
   "version": "3.9.13"
  }
 },
 "nbformat": 4,
 "nbformat_minor": 5
}
